{
 "cells": [
  {
   "cell_type": "markdown",
   "metadata": {
    "nbpresent": {
     "id": "c698a2da-cc7f-4b9b-809d-0761b5113cc6"
    }
   },
   "source": [
    "<span style='font-size:2.4em'>Procesamiento masivo de datos con SparkR</span>\n",
    "\n",
    "<span style='font-size:1.5em'>IX Jornadas de usuarios de R. Granada, 16 y 17 de noviembre de 2017</span>\n",
    "\n",
    "Taller impartido por: <span style='font-size:1.2em'>Manuel Jesús Parra Royón</span>\n"
   ]
  },
  {
   "cell_type": "markdown",
   "metadata": {
    "nbpresent": {
     "id": "9e2fe0c4-601e-4d73-a965-669b2bea7448"
    }
   },
   "source": [
    "![Spark+R](https://sites.google.com/site/manuparra/home/SparkRlogo.png)\n",
    "\n",
    "<HR>"
   ]
  },
  {
   "cell_type": "markdown",
   "metadata": {},
   "source": [
    "<span style=\"font-size:2em\">Imparte el taller:</span>\n",
    "\n",
    "\n",
    "<img src=\"https://sites.google.com/site/manuparra/home/manuparra.jpg\">\n",
    "Manuel Jesús Parra Royón\n",
    "\n",
    "PhD student. BigData time series data mining.\n",
    "\n",
    "Departamento de Ciencias de la Computación e Inteligencia Artificial.\n",
    "\n",
    "Distributed Computational Intelligence and Time Series Laboratory<BR>\n",
    "\n",
    "Universidad de Granada\n",
    "\n",
    "<a href=\"mailto:manuelparra@decsai.ugr.es\">manuelparra@decsai.ugr.es</a>  \n",
    "\n",
    "Twitter: <a href=\"https://twitter.com/manugrapevine\">@manugrapevine</a>\n",
    "\n",
    "\n"
   ]
  },
  {
   "cell_type": "markdown",
   "metadata": {
    "collapsed": true
   },
   "source": [
    "<span style=\"font-size:2.0em\">Presentación</span>\n",
    "<HR>"
   ]
  },
  {
   "cell_type": "markdown",
   "metadata": {},
   "source": [
    "<span style=\"font-size:1.3em\">\n",
    "El taller se divide en dos partes diferenciadas:\n",
    "\n",
    "* Una parte teórica sobre <B>R, Spark, y R sobre Spark</B>.\n",
    "* Otra parte completamente práctica y de experimientación con <B>SparkR<B>.\n",
    "\n",
    "<BR><BR>\n",
    "<BR>"
   ]
  },
  {
   "cell_type": "markdown",
   "metadata": {},
   "source": [
    "<span style=\"font-size:2.0em\">Objetivos del taller</span>\n",
    "<HR>"
   ]
  },
  {
   "cell_type": "markdown",
   "metadata": {},
   "source": [
    "Los objetivos a cubrir en el taller son los siguientes:\n",
    "\n",
    "* Conocer la problemática del procesamiento masivo de datos.\n",
    "* Fijar concepto y práctica sobre uso R sobre Spark para el procesado masivo de datos.\n",
    "* Instalar y configurar el sistema completo para poder trabajar con R y Spark.\n",
    "* Trabajar con datos masivos (filtrado, agregado, transformaciones), procesar datasets masivos son SparkSQL, etc..\n",
    "* Analizar datasets con las librerías de Machine Learning de los paquetes SparkR y sparklry\n",
    "* Utilizar herramientas para visualizar los datos de datasets masivos.\n",
    "\n",
    "<BR>\n",
    "<BR>"
   ]
  },
  {
   "cell_type": "markdown",
   "metadata": {},
   "source": [
    "<span style=\"font-size:2.0em\">Contenido</span>"
   ]
  },
  {
   "cell_type": "markdown",
   "metadata": {},
   "source": [
    "En el taller de procesamientos masivo de datos con SparkR vamos a ver lo siguiente:\n",
    "\n",
    "\n",
    "* **Introducción al procesamiento de datos masivos**<BR>\n",
    "    Breve introducción al procesamiento de datos, el problema de trabajar con grandes conjuntos de datos, Hadoop,Motivación de Spark, características, etc...<BR>\n",
    "\n",
    "* **Notas sobre R, Spark y SparkR**<BR>\n",
    "    Introducción a R, motivación de R para datos 'pequeños' y datos 'grandes', Spark y sus características, biblioteca de SparkR para análisis de datos masivos con R.<BR>\n",
    "\n",
    "* **Instalación de las herramientas necesarias para el taller**<BR>\n",
    "    Veremos todas las herramientas necesarias para poder trabajar con el entorno de SparkR, así como la instalación y puesta en marcha de toda la infraestructura necesaria para el taller. Inicio del entorno de trabajo habitual para trabajar en el taller.<BR>\n",
    "\n",
    "* **Entorno de trabajo del taller**<BR>\n",
    "    Detalles del manejo del entorno de trabajo con JupyterNotebooks y Spark + R<BR>\n",
    "\n",
    "* **Inicio del entorno de trabajo**<BR>\n",
    "    Flujo de trabajo con Spark + R<BR>\n",
    "\n",
    "* **Primeros pasos con SparkR**<BR>\n",
    "    Trabajo con ejemplos de uso de Spark + R <BR>\n",
    "\n",
    "* **Lectura y Escritura de datos con SparkR**<BR>\n",
    "    Trabajo con fuentes de datos, y tipos de conjuntos de datos, CSV, JSON, Parquet, ... Lectura y Escritura. Esquemas, y breve trabajo con SparkSQL. <BR>\n",
    "\n",
    "* **Operaciones y procesado de SparkDataFrames**<BR>\n",
    "    Trabajamos y procesamos conjuntos de datos masivos con SparkSQL y funciones de agregación, filtrado, selección, etc. Usamos flujos de trabajo con magrittr. Revisamos la funcionalidad completa de la biblioteca de SparkR.<BR>\n",
    "\n",
    "* **Minería de datos con la biblioteca de SparkR**<BR>\n",
    "    Aplicamos las técnicas de minería de datos y Machine Learning que proporciona SparkR: GLM, KMeans, NaiveBayes y AFT.<BR>\n",
    "\n",
    "* **Minería de datos con la biblioteca sparklyr**<BR>\n",
    "    Utilizamos la funcionalidad de la biblioteca ``sparklyr`` para procesar conjuntos de datos. Aplicamos los métodos de minería de datos y otras operaciones.<BR>\n",
    "\n",
    "* **Visualización de datos**<BR>\n",
    "    Visualización con la herramienta de experimentación reproducible Zeppelin (beta)\n"
   ]
  },
  {
   "cell_type": "markdown",
   "metadata": {},
   "source": [
    "## Breve encuesta sobre el uso de R\n",
    "\n",
    "![formsg](http://www.irvineducator.com/uploads/6/3/7/4/63744617/4194226_orig.jpg)\n",
    "\n",
    "\n",
    "Rellena esta mini-encuesta sobre el uso de R:\n",
    "\n",
    "\n",
    "https://goo.gl/forms/AK4wKmgYNGaEdvLy1\n",
    "\n"
   ]
  },
  {
   "cell_type": "markdown",
   "metadata": {},
   "source": [
    "<span style=\"font-size:2.0em\">Comenzamos el Taller !</span>"
   ]
  },
  {
   "cell_type": "code",
   "execution_count": null,
   "metadata": {
    "collapsed": true
   },
   "outputs": [],
   "source": []
  }
 ],
 "metadata": {
  "anaconda-cloud": {},
  "kernelspec": {
   "display_name": "R",
   "language": "R",
   "name": "ir"
  },
  "language_info": {
   "codemirror_mode": "r",
   "file_extension": ".r",
   "mimetype": "text/x-r-source",
   "name": "R",
   "pygments_lexer": "r",
   "version": "3.3.1"
  },
  "nbpresent": {
   "slides": {},
   "themes": {
    "default": "e0e51597-5ca5-40be-84b2-d2bb41981c19",
    "theme": {
     "563b9d05-fb33-4f5d-88f7-bda098be8308": {
      "backgrounds": {
       "backgroundColor": {
        "background-color": "backgroundColor",
        "id": "backgroundColor"
       }
      },
      "id": "563b9d05-fb33-4f5d-88f7-bda098be8308",
      "palette": {
       "backgroundColor": {
        "id": "backgroundColor",
        "rgb": [
         34,
         34,
         34
        ]
       },
       "headingColor": {
        "id": "headingColor",
        "rgb": [
         238,
         238,
         238
        ]
       },
       "linkColor": {
        "id": "linkColor",
        "rgb": [
         170,
         34,
         51
        ]
       },
       "mainColor": {
        "id": "mainColor",
        "rgb": [
         238,
         238,
         238
        ]
       }
      },
      "rules": {
       "a": {
        "color": "linkColor"
       },
       "h1": {
        "color": "headingColor",
        "font-family": "Ubuntu",
        "font-size": 7
       },
       "h2": {
        "color": "headingColor",
        "font-family": "Ubuntu",
        "font-size": 5
       },
       "h3": {
        "color": "headingColor",
        "font-family": "Ubuntu",
        "font-size": 3.75
       },
       "h4": {
        "color": "headingColor",
        "font-family": "Ubuntu",
        "font-size": 3
       },
       "h5": {
        "color": "headingColor",
        "font-family": "Ubuntu"
       },
       "h6": {
        "color": "headingColor",
        "font-family": "Ubuntu"
       },
       "h7": {
        "color": "headingColor",
        "font-family": "Ubuntu"
       },
       "li": {
        "color": "mainColor",
        "font-family": "Ubuntu",
        "font-size": 5
       },
       "p": {
        "color": "mainColor",
        "font-family": "Ubuntu",
        "font-size": 5
       }
      },
      "text-base": {
       "color": "mainColor",
       "font-family": "Ubuntu",
       "font-size": 5
      }
     },
     "e0e51597-5ca5-40be-84b2-d2bb41981c19": {
      "backgrounds": {
       "backgroundColor": {
        "background-color": "backgroundColor",
        "id": "backgroundColor"
       }
      },
      "id": "e0e51597-5ca5-40be-84b2-d2bb41981c19",
      "palette": {
       "backgroundColor": {
        "id": "backgroundColor",
        "rgb": [
         253,
         246,
         227
        ]
       },
       "headingColor": {
        "id": "headingColor",
        "rgb": [
         88,
         110,
         117
        ]
       },
       "linkColor": {
        "id": "linkColor",
        "rgb": [
         38,
         139,
         210
        ]
       },
       "mainColor": {
        "id": "mainColor",
        "rgb": [
         101,
         123,
         131
        ]
       }
      },
      "rules": {
       "a": {
        "color": "linkColor"
       },
       "h1": {
        "color": "headingColor",
        "font-family": "Oswald",
        "font-size": 7
       },
       "h2": {
        "color": "headingColor",
        "font-family": "Oswald",
        "font-size": 5
       },
       "h3": {
        "color": "headingColor",
        "font-family": "Oswald",
        "font-size": 3.75
       },
       "h4": {
        "color": "headingColor",
        "font-family": "Oswald",
        "font-size": 3
       },
       "h5": {
        "color": "headingColor",
        "font-family": "Oswald"
       },
       "h6": {
        "color": "headingColor",
        "font-family": "Oswald"
       },
       "h7": {
        "color": "headingColor",
        "font-family": "Oswald"
       },
       "li": {
        "color": "mainColor",
        "font-family": "Lato",
        "font-size": 5
       },
       "p": {
        "color": "mainColor",
        "font-family": "Lato",
        "font-size": 5
       }
      },
      "text-base": {
       "color": "mainColor",
       "font-family": "Lato",
       "font-size": 5
      }
     }
    }
   }
  }
 },
 "nbformat": 4,
 "nbformat_minor": 1
}
